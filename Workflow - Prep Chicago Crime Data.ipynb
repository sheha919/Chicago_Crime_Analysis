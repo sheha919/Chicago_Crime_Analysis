{
 "cells": [
  {
   "cell_type": "markdown",
   "id": "6ec35eb1",
   "metadata": {},
   "source": [
    "# Prepare Chicago Crime Data for a GitHub Repository"
   ]
  },
  {
   "cell_type": "markdown",
   "id": "30284ecf",
   "metadata": {},
   "source": [
    "- Original Notebook Source: https://github.com/coding-dojo-data-science/preparing-chicago-crime-data\n",
    "- Updated 11/17/22"
   ]
  },
  {
   "cell_type": "markdown",
   "id": "8a7f3b6a",
   "metadata": {},
   "source": [
    ">- This notebook will process a \"Crimes - 2001 to Preset.csv\" crime file in your Downloads folder and save it as smaller .csv's in a new \"Data/Chicago/\" folder inside this notebook's folder/repo."
   ]
  },
  {
   "cell_type": "markdown",
   "id": "9c338d8e",
   "metadata": {},
   "source": [
    "# INSTRUCTIONS"
   ]
  },
  {
   "cell_type": "markdown",
   "id": "6509f0da",
   "metadata": {},
   "source": [
    "- 1) Go to the Chicago Data Portal's page for [\"Crimes - 2001 to Preset\"](https://data.cityofchicago.org/Public-Safety/Crimes-2001-to-Present/ijzp-q8t2).\n",
    "\n",
    "- 2) Click on the Export button on the top right and select CSV. \n",
    "    - Save the file to your Downloads folder instead of your repository. **The file is too big for a repository.**\n",
    "    \n",
    "    \n",
    "    \n",
    "- 3) Wait for the full file to download. \n",
    "    - It is very large (over >1.7GB and may take several minutes to fully download.)\n",
    "    \n",
    "    \n",
    "- 4) Once the download is complete, change `RAW_FILE` variable below to match the filepath to the downloaded file."
   ]
  },
  {
   "cell_type": "markdown",
   "id": "4627fa5b",
   "metadata": {},
   "source": [
    "## 🚨 Set the correct `RAW_FILE` path"
   ]
  },
  {
   "cell_type": "markdown",
   "id": "dc0efd42",
   "metadata": {},
   "source": [
    "- The cell below will attempt to check your Downloads folder for any file with a name that contains \"Crimes_-_2001_to_Present\".\n",
    "    - If you know the file path already, you can skip the next cell and just manually set the RAW_FILE variable in the following code cell."
   ]
  },
  {
   "cell_type": "code",
   "execution_count": 1,
   "id": "14eefd0c",
   "metadata": {},
   "outputs": [
    {
     "name": "stdout",
     "output_type": "stream",
     "text": [
      "- Your Downloads folder is 'C:\\Users\\sheha\\Downloads/'\n",
      "\n"
     ]
    }
   ],
   "source": [
    "## Run the cell below to attempt to programmatically find your crime file\n",
    "import os,glob\n",
    "\n",
    "## Getting the home folder from environment variables\n",
    "home_folder = os.environ['HOME']\n",
    "# print(\"- Your Home Folder is: \" + home_folder)\n",
    "\n",
    "## Check for downloads folder\n",
    "if 'Downloads' in os.listdir(home_folder):\n",
    "    \n",
    "    \n",
    "    # Print the Downloads folder path\n",
    "    dl_folder = os.path.abspath(os.path.join(home_folder,'Downloads'))\n",
    "    print(f\"- Your Downloads folder is '{dl_folder}/'\\n\")\n",
    "    \n",
    "    ## checking for crime files using glob\n",
    "    crime_files = sorted(glob.glob(dl_folder+'/**/Crimes_-_2001_to_Present*',recursive=True))\n",
    "    \n",
    "    # If more than \n",
    "    if len(crime_files)==1:\n",
    "        RAW_FILE = crime_files[0]\n",
    "        \n",
    "    elif len(crime_files)>1:\n",
    "        print('[i] The following files were found:')\n",
    "        \n",
    "        for i, fname in enumerate(crime_files):\n",
    "            print(f\"\\tcrime_files[{i}] = '{fname}'\")\n",
    "        print(f'\\n- Please fill in the RAW_FILE variable in the code cell below with the correct filepath.')\n",
    "\n",
    "else:\n",
    "    print(f'[!] Could not programmatically find your downloads folder.')\n",
    "    print('- Try using Finder (on Mac) or File Explorer (Windows) to navigate to your Downloads folder.')\n"
   ]
  },
  {
   "cell_type": "code",
   "execution_count": 2,
   "id": "765b645a",
   "metadata": {},
   "outputs": [],
   "source": [
    "import os, glob"
   ]
  },
  {
   "cell_type": "code",
   "execution_count": 3,
   "id": "beafae14",
   "metadata": {},
   "outputs": [
    {
     "data": {
      "text/plain": [
       "'D:\\\\coding dojo\\\\04_project04\\\\Chicago_Crime_Analysis'"
      ]
     },
     "execution_count": 3,
     "metadata": {},
     "output_type": "execute_result"
    }
   ],
   "source": [
    "pwd"
   ]
  },
  {
   "cell_type": "code",
   "execution_count": 4,
   "id": "f2044cad",
   "metadata": {},
   "outputs": [
    {
     "data": {
      "text/plain": [
       "'C://Users/sheha/Downloads/Crimes_-_2001_to_Present.csv'"
      ]
     },
     "execution_count": 4,
     "metadata": {},
     "output_type": "execute_result"
    }
   ],
   "source": [
    "'C://Users/sheha/Downloads/Crimes_-_2001_to_Present.csv'"
   ]
  },
  {
   "cell_type": "code",
   "execution_count": 5,
   "id": "3c1267af",
   "metadata": {},
   "outputs": [
    {
     "ename": "Exception",
     "evalue": "You must update the RAW_FILE variable to match your local filepath.",
     "output_type": "error",
     "traceback": [
      "\u001b[1;31m---------------------------------------------------------------------------\u001b[0m",
      "\u001b[1;31mException\u001b[0m                                 Traceback (most recent call last)",
      "Cell \u001b[1;32mIn [5], line 6\u001b[0m\n\u001b[0;32m      3\u001b[0m \u001b[38;5;66;03m#(or slice correct index from the crime_files list)\u001b[39;00m\n\u001b[0;32m      5\u001b[0m \u001b[38;5;28;01mif\u001b[39;00m RAW_FILE \u001b[38;5;241m==\u001b[39m \u001b[38;5;124m\"\u001b[39m\u001b[38;5;124mC://Users/sheha/Downloads/Crimes_-_2001_to_Present.csv\u001b[39m\u001b[38;5;124m\"\u001b[39m:\n\u001b[1;32m----> 6\u001b[0m     \u001b[38;5;28;01mraise\u001b[39;00m \u001b[38;5;167;01mException\u001b[39;00m(\u001b[38;5;124m\"\u001b[39m\u001b[38;5;124mYou must update the RAW_FILE variable to match your local filepath.\u001b[39m\u001b[38;5;124m\"\u001b[39m)\n\u001b[0;32m      8\u001b[0m RAW_FILE\n",
      "\u001b[1;31mException\u001b[0m: You must update the RAW_FILE variable to match your local filepath."
     ]
    }
   ],
   "source": [
    "\n",
    "## (Required) MAKE SURE TO CHANGE THIS VARIABLE TO MATCH YOUR LOCAL FILE NAME\n",
    "RAW_FILE = \"C://Users/sheha/Downloads/Crimes_-_2001_to_Present.csv\" \n",
    "#(or slice correct index from the crime_files list)\n",
    "\n",
    "if RAW_FILE == \"C://Users/sheha/Downloads/Crimes_-_2001_to_Present.csv\":\n",
    "    raise Exception(\"You must update the RAW_FILE variable to match your local filepath.\")\n",
    "\n",
    "RAW_FILE"
   ]
  },
  {
   "cell_type": "code",
   "execution_count": null,
   "id": "f400f29a",
   "metadata": {},
   "outputs": [],
   "source": [
    "## (Optional) SET THE FOLDER FOR FINAL FILES\n",
    "#OUTPUT_FOLDER = 'Data/Chicago/'\n",
    "#os.makedirs(OUTPUT_FOLDER, exist_ok=True)"
   ]
  },
  {
   "cell_type": "markdown",
   "id": "894c80f3",
   "metadata": {},
   "source": [
    "# 🔄 Full Workflow"
   ]
  },
  {
   "cell_type": "markdown",
   "id": "b6fefbd7",
   "metadata": {},
   "source": [
    "- Now that your RAW_FILE variable is set either:\n",
    "    - On the toolbar, click on the Kernel menu > \"Restart and Run All\".\n",
    "    - OR click on this cell first, then on the toolbar click on the \"Cell\" menu > \"Run All Below\""
   ]
  },
  {
   "cell_type": "code",
   "execution_count": 6,
   "id": "ea108387",
   "metadata": {
    "ExecuteTime": {
     "end_time": "2022-07-19T21:57:53.130039Z",
     "start_time": "2022-07-19T21:57:53.111531Z"
    }
   },
   "outputs": [],
   "source": [
    "import pandas as pd\n",
    "pd.set_option('display.max_columns', 100)\n",
    "pd.set_option('display.float_format',lambda x: f\"{x:,.2f}\")"
   ]
  },
  {
   "cell_type": "code",
   "execution_count": 7,
   "id": "0a19b6d3",
   "metadata": {
    "ExecuteTime": {
     "end_time": "2022-07-19T21:57:53.130039Z",
     "start_time": "2022-07-19T21:57:53.111531Z"
    }
   },
   "outputs": [
    {
     "ename": "MemoryError",
     "evalue": "Unable to allocate 256. KiB for an array with shape (32768,) and data type int64",
     "output_type": "error",
     "traceback": [
      "\u001b[1;31m---------------------------------------------------------------------------\u001b[0m",
      "\u001b[1;31mMemoryError\u001b[0m                               Traceback (most recent call last)",
      "Cell \u001b[1;32mIn [7], line 1\u001b[0m\n\u001b[1;32m----> 1\u001b[0m chicago_full \u001b[38;5;241m=\u001b[39m \u001b[43mpd\u001b[49m\u001b[38;5;241;43m.\u001b[39;49m\u001b[43mread_csv\u001b[49m\u001b[43m(\u001b[49m\u001b[43mRAW_FILE\u001b[49m\u001b[43m)\u001b[49m\n\u001b[0;32m      2\u001b[0m chicago_full\n",
      "File \u001b[1;32m~\\anaconda3\\envs\\dojo-env\\lib\\site-packages\\pandas\\util\\_decorators.py:211\u001b[0m, in \u001b[0;36mdeprecate_kwarg.<locals>._deprecate_kwarg.<locals>.wrapper\u001b[1;34m(*args, **kwargs)\u001b[0m\n\u001b[0;32m    209\u001b[0m     \u001b[38;5;28;01melse\u001b[39;00m:\n\u001b[0;32m    210\u001b[0m         kwargs[new_arg_name] \u001b[38;5;241m=\u001b[39m new_arg_value\n\u001b[1;32m--> 211\u001b[0m \u001b[38;5;28;01mreturn\u001b[39;00m func(\u001b[38;5;241m*\u001b[39margs, \u001b[38;5;241m*\u001b[39m\u001b[38;5;241m*\u001b[39mkwargs)\n",
      "File \u001b[1;32m~\\anaconda3\\envs\\dojo-env\\lib\\site-packages\\pandas\\util\\_decorators.py:331\u001b[0m, in \u001b[0;36mdeprecate_nonkeyword_arguments.<locals>.decorate.<locals>.wrapper\u001b[1;34m(*args, **kwargs)\u001b[0m\n\u001b[0;32m    325\u001b[0m \u001b[38;5;28;01mif\u001b[39;00m \u001b[38;5;28mlen\u001b[39m(args) \u001b[38;5;241m>\u001b[39m num_allow_args:\n\u001b[0;32m    326\u001b[0m     warnings\u001b[38;5;241m.\u001b[39mwarn(\n\u001b[0;32m    327\u001b[0m         msg\u001b[38;5;241m.\u001b[39mformat(arguments\u001b[38;5;241m=\u001b[39m_format_argument_list(allow_args)),\n\u001b[0;32m    328\u001b[0m         \u001b[38;5;167;01mFutureWarning\u001b[39;00m,\n\u001b[0;32m    329\u001b[0m         stacklevel\u001b[38;5;241m=\u001b[39mfind_stack_level(),\n\u001b[0;32m    330\u001b[0m     )\n\u001b[1;32m--> 331\u001b[0m \u001b[38;5;28;01mreturn\u001b[39;00m func(\u001b[38;5;241m*\u001b[39margs, \u001b[38;5;241m*\u001b[39m\u001b[38;5;241m*\u001b[39mkwargs)\n",
      "File \u001b[1;32m~\\anaconda3\\envs\\dojo-env\\lib\\site-packages\\pandas\\io\\parsers\\readers.py:950\u001b[0m, in \u001b[0;36mread_csv\u001b[1;34m(filepath_or_buffer, sep, delimiter, header, names, index_col, usecols, squeeze, prefix, mangle_dupe_cols, dtype, engine, converters, true_values, false_values, skipinitialspace, skiprows, skipfooter, nrows, na_values, keep_default_na, na_filter, verbose, skip_blank_lines, parse_dates, infer_datetime_format, keep_date_col, date_parser, dayfirst, cache_dates, iterator, chunksize, compression, thousands, decimal, lineterminator, quotechar, quoting, doublequote, escapechar, comment, encoding, encoding_errors, dialect, error_bad_lines, warn_bad_lines, on_bad_lines, delim_whitespace, low_memory, memory_map, float_precision, storage_options)\u001b[0m\n\u001b[0;32m    935\u001b[0m kwds_defaults \u001b[38;5;241m=\u001b[39m _refine_defaults_read(\n\u001b[0;32m    936\u001b[0m     dialect,\n\u001b[0;32m    937\u001b[0m     delimiter,\n\u001b[1;32m   (...)\u001b[0m\n\u001b[0;32m    946\u001b[0m     defaults\u001b[38;5;241m=\u001b[39m{\u001b[38;5;124m\"\u001b[39m\u001b[38;5;124mdelimiter\u001b[39m\u001b[38;5;124m\"\u001b[39m: \u001b[38;5;124m\"\u001b[39m\u001b[38;5;124m,\u001b[39m\u001b[38;5;124m\"\u001b[39m},\n\u001b[0;32m    947\u001b[0m )\n\u001b[0;32m    948\u001b[0m kwds\u001b[38;5;241m.\u001b[39mupdate(kwds_defaults)\n\u001b[1;32m--> 950\u001b[0m \u001b[38;5;28;01mreturn\u001b[39;00m \u001b[43m_read\u001b[49m\u001b[43m(\u001b[49m\u001b[43mfilepath_or_buffer\u001b[49m\u001b[43m,\u001b[49m\u001b[43m \u001b[49m\u001b[43mkwds\u001b[49m\u001b[43m)\u001b[49m\n",
      "File \u001b[1;32m~\\anaconda3\\envs\\dojo-env\\lib\\site-packages\\pandas\\io\\parsers\\readers.py:611\u001b[0m, in \u001b[0;36m_read\u001b[1;34m(filepath_or_buffer, kwds)\u001b[0m\n\u001b[0;32m    608\u001b[0m     \u001b[38;5;28;01mreturn\u001b[39;00m parser\n\u001b[0;32m    610\u001b[0m \u001b[38;5;28;01mwith\u001b[39;00m parser:\n\u001b[1;32m--> 611\u001b[0m     \u001b[38;5;28;01mreturn\u001b[39;00m \u001b[43mparser\u001b[49m\u001b[38;5;241;43m.\u001b[39;49m\u001b[43mread\u001b[49m\u001b[43m(\u001b[49m\u001b[43mnrows\u001b[49m\u001b[43m)\u001b[49m\n",
      "File \u001b[1;32m~\\anaconda3\\envs\\dojo-env\\lib\\site-packages\\pandas\\io\\parsers\\readers.py:1778\u001b[0m, in \u001b[0;36mTextFileReader.read\u001b[1;34m(self, nrows)\u001b[0m\n\u001b[0;32m   1771\u001b[0m nrows \u001b[38;5;241m=\u001b[39m validate_integer(\u001b[38;5;124m\"\u001b[39m\u001b[38;5;124mnrows\u001b[39m\u001b[38;5;124m\"\u001b[39m, nrows)\n\u001b[0;32m   1772\u001b[0m \u001b[38;5;28;01mtry\u001b[39;00m:\n\u001b[0;32m   1773\u001b[0m     \u001b[38;5;66;03m# error: \"ParserBase\" has no attribute \"read\"\u001b[39;00m\n\u001b[0;32m   1774\u001b[0m     (\n\u001b[0;32m   1775\u001b[0m         index,\n\u001b[0;32m   1776\u001b[0m         columns,\n\u001b[0;32m   1777\u001b[0m         col_dict,\n\u001b[1;32m-> 1778\u001b[0m     ) \u001b[38;5;241m=\u001b[39m \u001b[38;5;28;43mself\u001b[39;49m\u001b[38;5;241;43m.\u001b[39;49m\u001b[43m_engine\u001b[49m\u001b[38;5;241;43m.\u001b[39;49m\u001b[43mread\u001b[49m\u001b[43m(\u001b[49m\u001b[43m  \u001b[49m\u001b[38;5;66;43;03m# type: ignore[attr-defined]\u001b[39;49;00m\n\u001b[0;32m   1779\u001b[0m \u001b[43m        \u001b[49m\u001b[43mnrows\u001b[49m\n\u001b[0;32m   1780\u001b[0m \u001b[43m    \u001b[49m\u001b[43m)\u001b[49m\n\u001b[0;32m   1781\u001b[0m \u001b[38;5;28;01mexcept\u001b[39;00m \u001b[38;5;167;01mException\u001b[39;00m:\n\u001b[0;32m   1782\u001b[0m     \u001b[38;5;28mself\u001b[39m\u001b[38;5;241m.\u001b[39mclose()\n",
      "File \u001b[1;32m~\\anaconda3\\envs\\dojo-env\\lib\\site-packages\\pandas\\io\\parsers\\c_parser_wrapper.py:230\u001b[0m, in \u001b[0;36mCParserWrapper.read\u001b[1;34m(self, nrows)\u001b[0m\n\u001b[0;32m    228\u001b[0m \u001b[38;5;28;01mtry\u001b[39;00m:\n\u001b[0;32m    229\u001b[0m     \u001b[38;5;28;01mif\u001b[39;00m \u001b[38;5;28mself\u001b[39m\u001b[38;5;241m.\u001b[39mlow_memory:\n\u001b[1;32m--> 230\u001b[0m         chunks \u001b[38;5;241m=\u001b[39m \u001b[38;5;28;43mself\u001b[39;49m\u001b[38;5;241;43m.\u001b[39;49m\u001b[43m_reader\u001b[49m\u001b[38;5;241;43m.\u001b[39;49m\u001b[43mread_low_memory\u001b[49m\u001b[43m(\u001b[49m\u001b[43mnrows\u001b[49m\u001b[43m)\u001b[49m\n\u001b[0;32m    231\u001b[0m         \u001b[38;5;66;03m# destructive to chunks\u001b[39;00m\n\u001b[0;32m    232\u001b[0m         data \u001b[38;5;241m=\u001b[39m _concatenate_chunks(chunks)\n",
      "File \u001b[1;32m~\\anaconda3\\envs\\dojo-env\\lib\\site-packages\\pandas\\_libs\\parsers.pyx:808\u001b[0m, in \u001b[0;36mpandas._libs.parsers.TextReader.read_low_memory\u001b[1;34m()\u001b[0m\n",
      "File \u001b[1;32m~\\anaconda3\\envs\\dojo-env\\lib\\site-packages\\pandas\\_libs\\parsers.pyx:890\u001b[0m, in \u001b[0;36mpandas._libs.parsers.TextReader._read_rows\u001b[1;34m()\u001b[0m\n",
      "File \u001b[1;32m~\\anaconda3\\envs\\dojo-env\\lib\\site-packages\\pandas\\_libs\\parsers.pyx:1037\u001b[0m, in \u001b[0;36mpandas._libs.parsers.TextReader._convert_column_data\u001b[1;34m()\u001b[0m\n",
      "File \u001b[1;32m~\\anaconda3\\envs\\dojo-env\\lib\\site-packages\\pandas\\_libs\\parsers.pyx:1083\u001b[0m, in \u001b[0;36mpandas._libs.parsers.TextReader._convert_tokens\u001b[1;34m()\u001b[0m\n",
      "File \u001b[1;32m~\\anaconda3\\envs\\dojo-env\\lib\\site-packages\\pandas\\_libs\\parsers.pyx:1183\u001b[0m, in \u001b[0;36mpandas._libs.parsers.TextReader._convert_with_dtype\u001b[1;34m()\u001b[0m\n",
      "File \u001b[1;32m~\\anaconda3\\envs\\dojo-env\\lib\\site-packages\\pandas\\_libs\\parsers.pyx:1744\u001b[0m, in \u001b[0;36mpandas._libs.parsers._try_int64\u001b[1;34m()\u001b[0m\n",
      "\u001b[1;31mMemoryError\u001b[0m: Unable to allocate 256. KiB for an array with shape (32768,) and data type int64"
     ]
    }
   ],
   "source": [
    "chicago_full = pd.read_csv(RAW_FILE)\n",
    "chicago_full"
   ]
  },
  {
   "cell_type": "code",
   "execution_count": null,
   "id": "2515b4e4",
   "metadata": {},
   "outputs": [],
   "source": [
    "# explicitly setting the format to speed up pd.to_datetime\n",
    "date_format = \"%m/%d/%Y %H:%M:%S %p\"\n",
    "\n",
    "\n",
    "### Demonstrating/testing date_format\n",
    "example = chicago_full.loc[0,'Date']\n",
    "display(example)\n",
    "pd.to_datetime(example,format=date_format)"
   ]
  },
  {
   "cell_type": "code",
   "execution_count": null,
   "id": "13ea2508",
   "metadata": {
    "ExecuteTime": {
     "end_time": "2022-07-19T22:00:56.546373Z",
     "start_time": "2022-07-19T21:58:59.582570Z"
    }
   },
   "outputs": [],
   "source": [
    "# this cell can take up to 1 min to run\n",
    "chicago_full['Datetime'] = pd.to_datetime(chicago_full['Date'], format=date_format)\n",
    "chicago_full = chicago_full.sort_values('Datetime')\n",
    "chicago_full = chicago_full.set_index('Datetime')\n",
    "chicago_full"
   ]
  },
  {
   "cell_type": "code",
   "execution_count": null,
   "id": "b08fc550",
   "metadata": {},
   "outputs": [],
   "source": [
    "(chicago_full.isna().sum()/len(chicago_full)).round(2)"
   ]
  },
  {
   "cell_type": "markdown",
   "id": "1d5375bd",
   "metadata": {},
   "source": [
    "## Separate the Full Dataset by Years"
   ]
  },
  {
   "cell_type": "code",
   "execution_count": null,
   "id": "387c9dac",
   "metadata": {
    "ExecuteTime": {
     "end_time": "2022-07-19T22:00:57.098220Z",
     "start_time": "2022-07-19T22:00:56.968728Z"
    }
   },
   "outputs": [],
   "source": [
    "# save the years for every crime\n",
    "chicago_full[\"Year\"] = chicago_full.index.year\n",
    "chicago_full[\"Year\"] = chicago_full[\"Year\"].astype(str)\n",
    "chicago_full[\"Year\"].value_counts()"
   ]
  },
  {
   "cell_type": "code",
   "execution_count": null,
   "id": "6417fc0d",
   "metadata": {
    "ExecuteTime": {
     "end_time": "2022-07-19T22:00:57.381210Z",
     "start_time": "2022-07-19T22:00:57.363196Z"
    }
   },
   "outputs": [],
   "source": [
    "## Dropping unneeded columns to reduce file size\n",
    "drop_cols = [\"X Coordinate\",\"Y Coordinate\", \"Community Area\",\"FBI Code\",\n",
    "             \"Case Number\",\"Updated On\",'Block','Location','IUCR']"
   ]
  },
  {
   "cell_type": "code",
   "execution_count": null,
   "id": "e90d0318",
   "metadata": {},
   "outputs": [],
   "source": [
    "# save final df\n",
    "chicago_final = chicago_full.drop(columns=drop_cols).sort_index()#.reset_index()\n",
    "chicago_final"
   ]
  },
  {
   "cell_type": "code",
   "execution_count": null,
   "id": "09b10723",
   "metadata": {},
   "outputs": [],
   "source": [
    "chicago_final.info()"
   ]
  },
  {
   "cell_type": "code",
   "execution_count": null,
   "id": "ee26cc65",
   "metadata": {},
   "outputs": [],
   "source": [
    "chicago_final.memory_usage(deep=True).astype(float)"
   ]
  },
  {
   "cell_type": "code",
   "execution_count": null,
   "id": "832f341c",
   "metadata": {
    "ExecuteTime": {
     "end_time": "2022-07-19T22:00:59.324800Z",
     "start_time": "2022-07-19T22:00:59.287027Z"
    }
   },
   "outputs": [],
   "source": [
    "# unique # of year bins\n",
    "year_bins = chicago_final['Year'].astype(str).unique()\n",
    "year_bins"
   ]
  },
  {
   "cell_type": "code",
   "execution_count": null,
   "id": "bb26f899",
   "metadata": {},
   "outputs": [],
   "source": [
    "FINAL_DROP = ['Datetime','Year']#,'Location Description']"
   ]
  },
  {
   "cell_type": "code",
   "execution_count": null,
   "id": "b76d5d31",
   "metadata": {
    "ExecuteTime": {
     "end_time": "2022-07-19T22:04:02.904774Z",
     "start_time": "2022-07-19T22:00:59.456601Z"
    }
   },
   "outputs": [],
   "source": [
    "## set save location \n",
    "\n",
    "os.makedirs(OUTPUT_FOLDER, exist_ok=True)\n",
    "print(f\"[i] Saving .csv's to {OUTPUT_FOLDER}\")\n",
    "## loop through years\n",
    "for year in year_bins:\n",
    "    \n",
    "    ## save temp slices of dfs to save.\n",
    "    temp_df = chicago_final.loc[ year]\n",
    "    temp_df = temp_df.reset_index(drop=False)\n",
    "    temp_df = temp_df.drop(columns=FINAL_DROP)\n",
    "\n",
    "    # save as csv to output folder\n",
    "    fname_temp = f\"{OUTPUT_FOLDER}Chicago-Crime_{year}.csv\"#.gz\n",
    "    temp_df.to_csv(fname_temp,index=False)\n",
    "\n",
    "    print(f\"- Succesfully saved {fname_temp}\")"
   ]
  },
  {
   "cell_type": "code",
   "execution_count": null,
   "id": "3737c458",
   "metadata": {},
   "outputs": [],
   "source": [
    "saved_files = sorted(glob.glob(OUTPUT_FOLDER+'*.*csv'))\n",
    "saved_files"
   ]
  },
  {
   "cell_type": "code",
   "execution_count": null,
   "id": "949a0499",
   "metadata": {
    "ExecuteTime": {
     "end_time": "2022-07-19T22:04:17.516765Z",
     "start_time": "2022-07-19T22:04:17.496966Z"
    }
   },
   "outputs": [],
   "source": [
    "## create a README.txt for the zip files\n",
    "readme = \"\"\"Source URL: \n",
    "- https://data.cityofchicago.org/Public-Safety/Crimes-2001-to-Present/ijzp-q8t2\n",
    "- Filtered for years 2000-Present.\n",
    "\n",
    "Downloaded 07/18/2022\n",
    "- Files are split into 1 year per file.\n",
    "\n",
    "EXAMPLE USAGE:\n",
    ">> import glob\n",
    ">> import pandas as pd\n",
    ">> folder = \"Data/Chicago/\"\n",
    ">> crime_files = sorted(glob.glob(folder+\"*.csv\"))\n",
    ">> df = pd.concat([pd.read_csv(f) for f in crime_files])\n",
    "\"\"\"\n",
    "print(readme)\n",
    "\n",
    "\n",
    "with open(f\"{OUTPUT_FOLDER}README.txt\",'w') as f:\n",
    "    f.write(readme)"
   ]
  },
  {
   "cell_type": "markdown",
   "id": "c5302540",
   "metadata": {},
   "source": [
    "## Confirmation"
   ]
  },
  {
   "cell_type": "markdown",
   "id": "4bc8e8ed",
   "metadata": {},
   "source": [
    "- Follow the example usage above to test if your files were created successfully."
   ]
  },
  {
   "cell_type": "code",
   "execution_count": null,
   "id": "23f44c51",
   "metadata": {},
   "outputs": [],
   "source": [
    "# get list of files from folder\n",
    "crime_files = sorted(glob.glob(OUTPUT_FOLDER+\"*.csv\"))\n",
    "df = pd.concat([pd.read_csv(f) for f in crime_files])\n",
    "df"
   ]
  },
  {
   "cell_type": "code",
   "execution_count": null,
   "id": "9552508d",
   "metadata": {},
   "outputs": [],
   "source": [
    "years = df['Date'].map(lambda x: x.split()[0].split('/')[-1])\n",
    "years.value_counts().sort_index()"
   ]
  },
  {
   "cell_type": "markdown",
   "id": "999fe20a",
   "metadata": {},
   "source": [
    "## Summary"
   ]
  },
  {
   "cell_type": "markdown",
   "id": "cda0d418",
   "metadata": {},
   "source": [
    "- The chicago crime dataset has now been saved to your repository as csv files. \n",
    "- You should save your notebook, commit your work and push to GitHub using GitHub desktop."
   ]
  },
  {
   "cell_type": "code",
   "execution_count": null,
   "id": "a76e3581",
   "metadata": {},
   "outputs": [],
   "source": []
  }
 ],
 "metadata": {
  "kernelspec": {
   "display_name": "Python (dojo-env)",
   "language": "python",
   "name": "dojo-env"
  },
  "language_info": {
   "codemirror_mode": {
    "name": "ipython",
    "version": 3
   },
   "file_extension": ".py",
   "mimetype": "text/x-python",
   "name": "python",
   "nbconvert_exporter": "python",
   "pygments_lexer": "ipython3",
   "version": "3.9.15"
  },
  "toc": {
   "base_numbering": 1,
   "nav_menu": {},
   "number_sections": false,
   "sideBar": true,
   "skip_h1_title": false,
   "title_cell": "Table of Contents",
   "title_sidebar": "Contents",
   "toc_cell": false,
   "toc_position": {
    "height": "calc(100% - 180px)",
    "left": "10px",
    "top": "150px",
    "width": "262.387px"
   },
   "toc_section_display": true,
   "toc_window_display": false
  }
 },
 "nbformat": 4,
 "nbformat_minor": 5
}
